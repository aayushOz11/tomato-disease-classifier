{
  "cells": [
    {
      "cell_type": "code",
      "execution_count": 1,
      "metadata": {
        "id": "23D2GObtyedg"
      },
      "outputs": [
        {
          "name": "stdout",
          "output_type": "stream",
          "text": [
            "WARNING:tensorflow:From C:\\Program Files\\Anaconda3\\lib\\site-packages\\tensorflow\\python\\compat\\v2_compat.py:111: disable_resource_variables (from tensorflow.python.ops.variable_scope) is deprecated and will be removed in a future version.\n",
            "Instructions for updating:\n",
            "non-resource variables are not supported in the long term\n"
          ]
        }
      ],
      "source": [
        "from sklearn.ensemble import RandomForestClassifier\n",
        "import numpy as np\n",
        "import glob\n",
        "import seaborn as sns\n",
        "import os\n",
        "import random\n",
        "import cv2\n",
        "from sklearn import preprocessing\n",
        "from tensorflow.keras.applications.vgg16 import VGG16\n",
        "from sklearn import metrics\n",
        "from sklearn.metrics import confusion_matrix\n",
        "from sklearn.metrics import classification_report\n",
        "import xgboost as xgb\n",
        "import joblib\n",
        "import tensorflow.compat.v1 as tf\n",
        "tf.disable_v2_behavior()\n",
        "\n",
        "config = tf.ConfigProto()\n",
        "config.gpu_options.per_process_gpu_memory_fraction = 0.6\n",
        "session = tf.Session(config=config)\n",
        "\n",
        "# Creating static and local variables\n",
        "SIZE = 256\n",
        "SEED_TRAINING = 121\n",
        "SEED_TESTING = 197\n",
        "SEED_VALIDATION = 164\n",
        "CHANNELS = 3\n",
        "n_classes = 8\n",
        "EPOCHS = 100\n",
        "BATCH_SIZE = 1\n",
        "input_shape = (SIZE, SIZE, CHANNELS)\n"
      ]
    },
    {
      "cell_type": "code",
      "execution_count": 6,
      "metadata": {
        "id": "n6YWenVs3l_v"
      },
      "outputs": [],
      "source": [
        "#--------------------Training\n",
        "def training(path) : \n",
        "    # loading data from local directory -> basic method. here labels are folder name, means each variety of data stored in particular folder.\n",
        "    train_images = []       # training dataset stored here...(numpy array form of images)\n",
        "    train_labels = []     # labels will be stored here \n",
        "    \n",
        "    '''here we are using glob for accessing directories'''\n",
        "    path = path + '/*'\n",
        "    for directory_path in glob.glob(path) :   \n",
        "        label = directory_path.split('/')[-1]       # taking labels from folders\n",
        "        # print(label)    # extracting label from directory path\n",
        "        \n",
        "        '''now we are entering into each folder and reading images from it and at a same \n",
        "        time we are also storing the label.'''\n",
        "        for img_path in glob.glob(os.path.join(directory_path, '*.JPG')) :    \n",
        "            img = cv2.imread(img_path, cv2.IMREAD_COLOR)    # read color image \n",
        "            img = cv2.resize(img, (SIZE, SIZE))        # resize the image\n",
        "            \n",
        "            '''actually cv2 read image in BGR channel ordering, in color image we have 3 channels\n",
        "            RGB so here the channel order is different nothing special!. it doesnt affect on model.\n",
        "            In reality we can arrange them in any order we like.'''\n",
        "            cv2.cvtColor(img, cv2.COLOR_BGR2RGB)\n",
        "            train_images.append(img)\n",
        "            train_labels.append(label)\n",
        "    \n",
        "    # Shuffling the list to avoid the some kind of bias.\n",
        "    train_data = list(zip(train_images, train_labels))\n",
        "    '''Seed function is used to save the state of a random function, so that it can generate          \n",
        "        same random numbers on multiple executions of the code on the same machine or on \n",
        "        different machines (for a specific seed value).'''\n",
        "    random.seed(SEED_TRAINING)   \n",
        "    random.shuffle(train_data)\n",
        "    train_images, train_labels = zip(*train_data)   # it will unzip the ziped iterators, it will return tuple\n",
        "    \n",
        "    # converting tuples to numpy array.\n",
        "    train_images = np.array(train_images)\n",
        "    train_labels = np.array(train_labels)\n",
        "    \n",
        "    # let's normalize our pixel values \n",
        "    train_images = train_images / 255.0\n",
        "    return train_images, train_labels"
      ]
    },
    {
      "cell_type": "code",
      "execution_count": 7,
      "metadata": {
        "id": "DfJAU13nysVk"
      },
      "outputs": [],
      "source": [
        "def testing(path) : \n",
        "    test_images = []\n",
        "    test_labels = []\n",
        "    \n",
        "    path = path + '/*'\n",
        "    for directory_path in glob.glob(path) : \n",
        "        labels = directory_path.split('/')[-1]\n",
        "        for img_path in glob.glob(os.path.join(directory_path, '*.JPG')) : \n",
        "            img = cv2.imread(img_path, cv2.IMREAD_COLOR)\n",
        "            img = cv2.resize(img, (SIZE, SIZE))\n",
        "            test_images.append(img)\n",
        "            test_labels.append(labels)\n",
        "            \n",
        "    # Shuffling testing data\n",
        "    test_data = list(zip(test_images, test_labels))\n",
        "    random.seed(SEED_TESTING)\n",
        "    random.shuffle(test_data)\n",
        "    print(len(test_data))\n",
        "    test_images, test_labels = zip(*test_data)\n",
        "    test_images = np.array(test_images)\n",
        "    test_labels = np.array(test_labels)\n",
        "    \n",
        "    # let's normalize our pixel values\n",
        "    test_images = test_images / 255.0\n",
        "    return test_images, test_labels\n"
      ]
    },
    {
      "cell_type": "code",
      "execution_count": 8,
      "metadata": {
        "colab": {
          "base_uri": "https://localhost:8080/"
        },
        "id": "emTiEICUM6Je",
        "outputId": "587aa6ad-3279-436d-8f57-503c94e1f2f7"
      },
      "outputs": [
        {
          "name": "stdout",
          "output_type": "stream",
          "text": [
            "1200\n"
          ]
        }
      ],
      "source": [
        "# preprocessing training and testing images\n",
        "X_test, y_test_labels = testing(r'C:/Users/Aayush Malde/Desktop/aayush documents/TY KJSCE/6th sem/ML lab/tomato_disease_data/Test')\n",
        "X_train, y_train_labels = training(r'C:/Users/Aayush Malde/Desktop/aayush documents/TY KJSCE/6th sem/ML lab/tomato_disease_data/Train')"
      ]
    },
    {
      "cell_type": "code",
      "execution_count": 9,
      "metadata": {
        "colab": {
          "base_uri": "https://localhost:8080/"
        },
        "id": "Ir9e2cQDy3Rj",
        "outputId": "0a6bde17-625a-4e5c-ef27-118bafe6c786"
      },
      "outputs": [
        {
          "name": "stdout",
          "output_type": "stream",
          "text": [
            "{'Test\\\\Tomato_Bacterial_spot': 0, 'Test\\\\Tomato_Early_blight': 1, 'Test\\\\Tomato_Late_blight': 2, 'Test\\\\Tomato_Leaf_Mold': 3, 'Test\\\\Tomato_Septoria_leaf_spot': 4, 'Test\\\\Tomato_Spider_mites_Two_spotted_spider_mite': 5, 'Test\\\\Tomato__Tomato_YellowLeaf__Curl_Virus': 6, 'Test\\\\Tomato_healthy': 7}\n",
            "Model: \"vgg16\"\n",
            "_________________________________________________________________\n",
            "Layer (type)                 Output Shape              Param #   \n",
            "=================================================================\n",
            "input_1 (InputLayer)         [(None, 256, 256, 3)]     0         \n",
            "_________________________________________________________________\n",
            "block1_conv1 (Conv2D)        (None, 256, 256, 64)      1792      \n",
            "_________________________________________________________________\n",
            "block1_conv2 (Conv2D)        (None, 256, 256, 64)      36928     \n",
            "_________________________________________________________________\n",
            "block1_pool (MaxPooling2D)   (None, 128, 128, 64)      0         \n",
            "_________________________________________________________________\n",
            "block2_conv1 (Conv2D)        (None, 128, 128, 128)     73856     \n",
            "_________________________________________________________________\n",
            "block2_conv2 (Conv2D)        (None, 128, 128, 128)     147584    \n",
            "_________________________________________________________________\n",
            "block2_pool (MaxPooling2D)   (None, 64, 64, 128)       0         \n",
            "_________________________________________________________________\n",
            "block3_conv1 (Conv2D)        (None, 64, 64, 256)       295168    \n",
            "_________________________________________________________________\n",
            "block3_conv2 (Conv2D)        (None, 64, 64, 256)       590080    \n",
            "_________________________________________________________________\n",
            "block3_conv3 (Conv2D)        (None, 64, 64, 256)       590080    \n",
            "_________________________________________________________________\n",
            "block3_pool (MaxPooling2D)   (None, 32, 32, 256)       0         \n",
            "_________________________________________________________________\n",
            "block4_conv1 (Conv2D)        (None, 32, 32, 512)       1180160   \n",
            "_________________________________________________________________\n",
            "block4_conv2 (Conv2D)        (None, 32, 32, 512)       2359808   \n",
            "_________________________________________________________________\n",
            "block4_conv3 (Conv2D)        (None, 32, 32, 512)       2359808   \n",
            "_________________________________________________________________\n",
            "block4_pool (MaxPooling2D)   (None, 16, 16, 512)       0         \n",
            "_________________________________________________________________\n",
            "block5_conv1 (Conv2D)        (None, 16, 16, 512)       2359808   \n",
            "_________________________________________________________________\n",
            "block5_conv2 (Conv2D)        (None, 16, 16, 512)       2359808   \n",
            "_________________________________________________________________\n",
            "block5_conv3 (Conv2D)        (None, 16, 16, 512)       2359808   \n",
            "_________________________________________________________________\n",
            "block5_pool (MaxPooling2D)   (None, 8, 8, 512)         0         \n",
            "=================================================================\n",
            "Total params: 14,714,688\n",
            "Trainable params: 0\n",
            "Non-trainable params: 14,714,688\n",
            "_________________________________________________________________\n"
          ]
        },
        {
          "name": "stderr",
          "output_type": "stream",
          "text": [
            "C:\\Program Files\\Anaconda3\\lib\\site-packages\\keras\\engine\\training.py:2470: UserWarning: `Model.state_updates` will be removed in a future version. This property should not be used in TensorFlow 2.0, as `updates` are applied automatically.\n",
            "  warnings.warn('`Model.state_updates` will be removed in a future version. '\n"
          ]
        }
      ],
      "source": [
        "# encoding labels from text to integer\n",
        "le = preprocessing.LabelEncoder()\n",
        "le.fit(y_train_labels)\n",
        "train_label_encoded = le.transform(y_train_labels)\n",
        "le.fit(y_test_labels)\n",
        "test_label_encoded = le.transform(y_test_labels)\n",
        "\n",
        "# extracting original labels, later we will need it.\n",
        "labels = dict(zip(le.classes_,range(len(le.classes_))))\n",
        "print(labels)\n",
        "\n",
        "# aliasing for better understanding\n",
        "y_train, y_test = train_label_encoded, test_label_encoded\n",
        "\n",
        "# let's load VGG16 Architecture without fully connected layers, considerding only fully convolutional layers\n",
        "vgg_model = VGG16(weights = 'imagenet',  include_top = False, input_shape = (SIZE, SIZE, 3)) \n",
        "\n",
        "# let's make all layers non-trainable\n",
        "for layer in vgg_model.layers : \n",
        "    layer.trainable = False\n",
        "    \n",
        "# now trainable parameter will be 0 in our architecture\n",
        "vgg_model.summary()\n",
        "\n",
        "# let's extract features from convolutional network for XBG\n",
        "feature_extractor = vgg_model.predict(X_train)\n",
        "\n",
        "# actually our data in the form of (2500, 8, 8, 512) into (2500, 8*8*512) \n",
        "features = feature_extractor.reshape(feature_extractor.shape[0], -1)\n",
        "X_train_features = features\n",
        "\n",
        "# perform same operation on test dataset\n",
        "feature_extractor_test = vgg_model.predict(X_test)\n",
        "features_test = feature_extractor_test.reshape(feature_extractor_test.shape[0], -1)\n",
        "X_test_features = features_test\n"
      ]
    },
    {
      "cell_type": "code",
      "execution_count": null,
      "metadata": {},
      "outputs": [],
      "source": [
        "# defining Random Forest Classifier Model\n",
        "rfc = RandomForestClassifier() \n",
        "rfc.fit(X_train_features, y_train)\n",
        "rfc_pred = rfc.predict(X_test_features)\n",
        "\n",
        "# inversing le transforme to get original labels\n",
        "rfc_pred = le.inverse_transform(rfc_pred)\n",
        "\n",
        "# checking overall accuracy\n",
        "print('Accuracy of Random Forest : ', metrics.accuracy_score(y_test_labels, rfc_pred))\n"
      ]
    },
    {
      "cell_type": "code",
      "execution_count": 7,
      "metadata": {},
      "outputs": [
        {
          "data": {
            "text/plain": [
              "['hybrid_model_rfc.pkl']"
            ]
          },
          "execution_count": 7,
          "metadata": {},
          "output_type": "execute_result"
        }
      ],
      "source": [
        "joblib.dump(rfc, 'hybrid_model_rfc.pkl')"
      ]
    },
    {
      "cell_type": "code",
      "execution_count": 9,
      "metadata": {
        "id": "thbfD9NSy_zB"
      },
      "outputs": [
        {
          "name": "stdout",
          "output_type": "stream",
          "text": [
            "[22:49:40] WARNING: C:/Users/Administrator/workspace/xgboost-win64_release_1.5.1/src/learner.cc:1115: Starting in XGBoost 1.3.0, the default evaluation metric used with the objective 'multi:softprob' was changed from 'merror' to 'mlogloss'. Explicitly set eval_metric if you'd like to restore the old behavior.\n",
            "Accuracy of XGBOOST :  0.8616666666666667\n"
          ]
        }
      ],
      "source": [
        "# defining XGBoost Classifier model      ----- Model trained in just 7 minutes(CPU)\n",
        "model = xgb.XGBClassifier(use_label_encoder = False)\n",
        "model.fit(X_train_features, y_train)\n",
        "xgb_pred = model.predict(X_test_features)\n",
        "\n",
        "# inversing le transforme to get original labels\n",
        "xgb_pred = le.inverse_transform(xgb_pred)\n",
        "\n",
        "# let's check overall accuracy\n",
        "print('Accuracy of XGBOOST : ', metrics.accuracy_score(y_test_labels, xgb_pred))\n",
        "# '''\n",
        "# Accuracy of XGBOOST :  0.897\n",
        "# '''"
      ]
    },
    {
      "cell_type": "code",
      "execution_count": 10,
      "metadata": {
        "id": "kEC5PJUlzDsg"
      },
      "outputs": [
        {
          "data": {
            "text/plain": [
              "Text(0.5, 1.0, 'Random Forest Preformance')"
            ]
          },
          "execution_count": 10,
          "metadata": {},
          "output_type": "execute_result"
        },
        {
          "data": {
            "image/png": "[encoded data removed]",
            "text/plain": [
              "<Figure size 432x288 with 2 Axes>"
            ]
          },
          "metadata": {
            "needs_background": "light"
          },
          "output_type": "display_data"
        }
      ],
      "source": [
        "# Confusion Matrics : Verify accuracy of each class\n",
        "cm = confusion_matrix(y_test_labels, rfc_pred)\n",
        "cm = cm.astype('float') / cm.sum(axis=1)[:, np.newaxis]\n",
        "sns.heatmap(cm, annot = True).set_title('Random Forest Preformance')\n"
      ]
    },
    {
      "cell_type": "code",
      "execution_count": 11,
      "metadata": {},
      "outputs": [
        {
          "data": {
            "text/plain": [
              "Text(0.5, 1.0, 'XGB Preformance')"
            ]
          },
          "execution_count": 11,
          "metadata": {},
          "output_type": "execute_result"
        },
        {
          "data": {
            "image/png": "[encoded data removed]",
            "text/plain": [
              "<Figure size 432x288 with 2 Axes>"
            ]
          },
          "metadata": {
            "needs_background": "light"
          },
          "output_type": "display_data"
        }
      ],
      "source": [
        "cm = confusion_matrix(y_test_labels, xgb_pred)\n",
        "cm = cm.astype('float') / cm.sum(axis=1)[:, np.newaxis]\n",
        "sns.heatmap(cm, annot = True).set_title('XGB Preformance')"
      ]
    },
    {
      "cell_type": "code",
      "execution_count": 12,
      "metadata": {
        "id": "ssZoTQTvzPx8"
      },
      "outputs": [
        {
          "name": "stdout",
          "output_type": "stream",
          "text": [
            "Random Forest Report : \n",
            "                                                  precision    recall  f1-score   support\n",
            "\n",
            "                      Test\\Tomato_Bacterial_spot       0.79      0.88      0.83       150\n",
            "                        Test\\Tomato_Early_blight       0.54      0.67      0.60       150\n",
            "                         Test\\Tomato_Late_blight       0.81      0.55      0.65       150\n",
            "                           Test\\Tomato_Leaf_Mold       0.70      0.67      0.68       150\n",
            "                  Test\\Tomato_Septoria_leaf_spot       0.79      0.62      0.69       150\n",
            "Test\\Tomato_Spider_mites_Two_spotted_spider_mite       0.79      0.93      0.85       150\n",
            "      Test\\Tomato__Tomato_YellowLeaf__Curl_Virus       0.85      0.89      0.87       150\n",
            "                             Test\\Tomato_healthy       0.95      0.96      0.95       150\n",
            "\n",
            "                                        accuracy                           0.77      1200\n",
            "                                       macro avg       0.78      0.77      0.77      1200\n",
            "                                    weighted avg       0.78      0.77      0.77      1200\n",
            "\n",
            "XGB Report : \n",
            "                                                  precision    recall  f1-score   support\n",
            "\n",
            "                      Test\\Tomato_Bacterial_spot       0.89      0.93      0.91       150\n",
            "                        Test\\Tomato_Early_blight       0.72      0.73      0.73       150\n",
            "                         Test\\Tomato_Late_blight       0.88      0.71      0.78       150\n",
            "                           Test\\Tomato_Leaf_Mold       0.85      0.82      0.83       150\n",
            "                  Test\\Tomato_Septoria_leaf_spot       0.82      0.84      0.83       150\n",
            "Test\\Tomato_Spider_mites_Two_spotted_spider_mite       0.86      0.95      0.91       150\n",
            "      Test\\Tomato__Tomato_YellowLeaf__Curl_Virus       0.92      0.94      0.93       150\n",
            "                             Test\\Tomato_healthy       0.96      0.97      0.96       150\n",
            "\n",
            "                                        accuracy                           0.86      1200\n",
            "                                       macro avg       0.86      0.86      0.86      1200\n",
            "                                    weighted avg       0.86      0.86      0.86      1200\n",
            "\n"
          ]
        },
        {
          "data": {
            "text/plain": [
              "['hybrid_model.pkl']"
            ]
          },
          "execution_count": 12,
          "metadata": {},
          "output_type": "execute_result"
        }
      ],
      "source": [
        "# Classification report\n",
        "print('Random Forest Report : ')\n",
        "print(classification_report(y_test_labels, rfc_pred))\n",
        "\n",
        "print('XGB Report : ')\n",
        "print(classification_report(y_test_labels, xgb_pred))\n",
        "\n",
        "# save the model\n",
        "joblib.dump(model, 'hybrid_model.pkl')"
      ]
    },
    {
      "cell_type": "code",
      "execution_count": null,
      "metadata": {},
      "outputs": [],
      "source": [
        "# Load model from folder\n",
        "classifier = joblib.load(\"hybrid_model_rfc.pkl\")\n",
        "img = cv2.imread(\"C:/Users/Aayush Malde/Desktop/aayush documents/TY KJSCE/6th sem/ML lab/tomato_disease_data/Tomato__Tomato_YellowLeaf__Curl_Virus/0a9e37a2-95d5-4af7-95a1-2cbb67074452___YLCV_NREC 2291.JPG\")\n",
        "cv2.imshow(\"curl virus\",img)\n",
        "cv2.waitKey(0)\n",
        "img = cv2.resize(img, (SIZE, SIZE))\n",
        "img = img/255.0\n",
        "img = np.array(img)\n",
        "image = []\n",
        "image.append(img)\n",
        "print(np.shape(image))\n",
        "feature_extractor = vgg_model.predict([image])\n",
        "# actually our data in the form of (2500, 8, 8, 512) into (2500, 8*8*512) \n",
        "features = feature_extractor.reshape(feature_extractor.shape[0], -1)\n",
        "img_features = features\n",
        "print(classifier.predict(img_features))"
      ]
    },
    {
      "cell_type": "code",
      "execution_count": 12,
      "metadata": {},
      "outputs": [
        {
          "name": "stdout",
          "output_type": "stream",
          "text": [
            "[6]\n"
          ]
        }
      ],
      "source": [
        "# Load model from file\n",
        "classifier = joblib.load(\"hybrid_model.pkl\")\n",
        "# img = cv2.imread(\"C:/Users/Aayush Malde/Desktop/aayush documents/TY KJSCE/6th sem/ML lab/tomato_disease_data/Test1/Tomato__Tomato_YellowLeaf__Curl_Virus/0a14b65b-2e45-4bed-be45-c482a40a4f7c___UF.GRC_YLCV_Lab 02090.JPG\")\n",
        "\n",
        "# img = cv2.resize(img, (SIZE, SIZE))\n",
        "# img = img/255.0\n",
        "# img = np.array(img)\n",
        "# image = []\n",
        "# image.append(img)\n",
        "# print(np.shape(image))\n",
        "# feature_extractor = vgg_model.predict([image])\n",
        "# # actually our data in the form of (2500, 8, 8, 512) into (2500, 8*8*512) \n",
        "# features = feature_extractor.reshape(feature_extractor.shape[0], -1)\n",
        "# img_features = features\n",
        "print(classifier.predict(img_features))\n"
      ]
    }
  ],
  "metadata": {
    "colab": {
      "name": "ML_IA2.ipynb",
      "provenance": []
    },
    "kernelspec": {
      "display_name": "Python 3",
      "name": "python3"
    },
    "language_info": {
      "codemirror_mode": {
        "name": "ipython",
        "version": 3
      },
      "file_extension": ".py",
      "mimetype": "text/x-python",
      "name": "python",
      "nbconvert_exporter": "python",
      "pygments_lexer": "ipython3",
      "version": "3.8.5"
    }
  },
  "nbformat": 4,
  "nbformat_minor": 0
}
